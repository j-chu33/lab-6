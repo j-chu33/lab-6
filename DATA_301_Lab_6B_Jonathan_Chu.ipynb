{
  "nbformat": 4,
  "nbformat_minor": 0,
  "metadata": {
    "colab": {
      "provenance": [],
      "include_colab_link": true
    },
    "kernelspec": {
      "name": "python3",
      "display_name": "Python 3"
    }
  },
  "cells": [
    {
      "cell_type": "markdown",
      "metadata": {
        "id": "view-in-github",
        "colab_type": "text"
      },
      "source": [
        "<a href=\"https://colab.research.google.com/github/j-chu33/lab-6/blob/main/DATA_301_Lab_6B_Jonathan_Chu.ipynb\" target=\"_parent\"><img src=\"https://colab.research.google.com/assets/colab-badge.svg\" alt=\"Open In Colab\"/></a>"
      ]
    },
    {
      "cell_type": "markdown",
      "metadata": {
        "id": "Wv2CguEzescV"
      },
      "source": [
        "# Bing Maps API\n",
        "\n",
        "In this part of the lab, you will join the CityBikes data from the previous part of the lab with additional data that you will query from the Bing Maps API.\n",
        "\n",
        "First, you will need to register for a Bing Maps Key. Follow the instructions [here](https://docs.microsoft.com/en-us/bingmaps/getting-started/bing-maps-dev-center-help/getting-a-bing-maps-key). You should be able to sign in with your Cal Poly account. When you get to Step 4, select:\n",
        "\n",
        "- Key type: Basic\n",
        "- Application type: Dev/Test\n",
        "\n",
        "You will be able to make 125000 free requests with the resulting API key. This should be more than enough to complete this assignment.\n",
        "\n",
        "We will be working with the [REST services in the Bing Maps API](https://docs.microsoft.com/en-us/bingmaps/rest-services/). Click on the link for a complete documentation of the features."
      ]
    },
    {
      "cell_type": "code",
      "source": [
        "key = 'Apo9BGIaIU8pfzLvnFsgCghaNHe0bgs6h20pcmTPqRveovg6XbbyPFuiBsTvYwDY'"
      ],
      "metadata": {
        "id": "Jar6g2RqMx3f"
      },
      "execution_count": null,
      "outputs": []
    },
    {
      "cell_type": "code",
      "source": [
        "from google.colab import drive\n",
        "drive.mount('/content/drive')"
      ],
      "metadata": {
        "colab": {
          "base_uri": "https://localhost:8080/"
        },
        "id": "MZKbXrzHKDTz",
        "outputId": "afeb7e07-6a16-4fcd-b472-8ebd73f6c592"
      },
      "execution_count": null,
      "outputs": [
        {
          "output_type": "stream",
          "name": "stdout",
          "text": [
            "Mounted at /content/drive\n"
          ]
        }
      ]
    },
    {
      "cell_type": "markdown",
      "metadata": {
        "id": "vhodHHWtu8Xb"
      },
      "source": [
        "## Question 1\n",
        "\n",
        "Read in the `DataFrame` of bike stations in the United States from Part A of this lab. Restrict to the stations in the \"Bay Wheels\" network (with network ID \"ford-gobike\").\n",
        "\n",
        "How many of these stations are in the city/county of San Francisco? \n",
        "\n",
        "(_Hint:_ Use the [Locations API](https://docs.microsoft.com/en-us/bingmaps/rest-services/locations/) to get the address associated with each latitude and longitude coordinate.)"
      ]
    },
    {
      "cell_type": "code",
      "source": [
        "# http://dev.virtualearth.net/REST/v1/Locations/47.64054,-122.12934?o=xml&key={Apo9BGIaIU8pfzLvnFsgCghaNHe0bgs6h20pcmTPqRveovg6XbbyPFuiBsTvYwDY}"
      ],
      "metadata": {
        "id": "dnvnZqZ1PXKI"
      },
      "execution_count": null,
      "outputs": []
    },
    {
      "cell_type": "code",
      "source": [
        "import requests\n",
        "from lxml import etree\n",
        "import xml.etree.ElementTree as ET\n",
        "import json"
      ],
      "metadata": {
        "id": "tXdJtdllT467"
      },
      "execution_count": null,
      "outputs": []
    },
    {
      "cell_type": "code",
      "source": [
        "import pandas as pd\n",
        "df_stations = pd.read_csv('https://raw.githubusercontent.com/j-chu33/lab-6/main/stations.csv')"
      ],
      "metadata": {
        "id": "QLSzREliKI0q"
      },
      "execution_count": null,
      "outputs": []
    },
    {
      "cell_type": "code",
      "source": [
        "df_baywheels = df_stations[df_stations['stat.id'] == 'bay-wheels']"
      ],
      "metadata": {
        "id": "xbmigt0dOre9"
      },
      "execution_count": null,
      "outputs": []
    },
    {
      "cell_type": "code",
      "source": [
        "url_lst = []\n",
        "\n",
        "for i in range(df_baywheels.shape[0]):\n",
        "  lat = df_baywheels.iloc[i]['latitude']\n",
        "  lng = df_baywheels.iloc[i]['longitude']\n",
        "  url = \"http://dev.virtualearth.net/REST/v1/Locations/\" + str(lat) + ',' + str(lng) + \"?o=xml&key=Apo9BGIaIU8pfzLvnFsgCghaNHe0bgs6h20pcmTPqRveovg6XbbyPFuiBsTvYwDY\"\n",
        "  url_lst.append(url)"
      ],
      "metadata": {
        "id": "54xyqAHBSep0"
      },
      "execution_count": null,
      "outputs": []
    },
    {
      "cell_type": "code",
      "source": [
        "import time\n",
        "\n",
        "addy_lst = []\n",
        "n = 0.001\n",
        "\n",
        "for url in url_lst:\n",
        "  response = requests.get(url)\n",
        "\n",
        "  root = ET.fromstring(response.text)\n",
        "\n",
        "  ns = {'ns0': 'http://schemas.microsoft.com/search/local/ws/rest/v1'}\n",
        "  formatted_address = root.find('.//ns0:FormattedAddress', ns).text\n",
        "\n",
        "  addy = formatted_address.split(',')\n",
        "\n",
        "  addy_lst.append(addy[1])\n",
        "\n",
        "  n += .0001\n",
        "  time.sleep(n)\n"
      ],
      "metadata": {
        "id": "nJ7QwXjiZNhP"
      },
      "execution_count": null,
      "outputs": []
    },
    {
      "cell_type": "code",
      "source": [
        "df_addy = pd.DataFrame(addy_lst)\n",
        "df_addy.value_counts()"
      ],
      "metadata": {
        "colab": {
          "base_uri": "https://localhost:8080/"
        },
        "id": "BZmQQEM8cYTO",
        "outputId": "0f5e06d1-22f0-4576-f78b-1a60dbfa2ff6"
      },
      "execution_count": null,
      "outputs": [
        {
          "output_type": "execute_result",
          "data": {
            "text/plain": [
              " San Francisco    293\n",
              " San Jose          83\n",
              " Oakland           77\n",
              " Berkeley          36\n",
              " Emeryville        17\n",
              "dtype: int64"
            ]
          },
          "metadata": {},
          "execution_count": 14
        }
      ]
    },
    {
      "cell_type": "markdown",
      "source": [
        "293 of the 506 are actually in San Francisco."
      ],
      "metadata": {
        "id": "6J2vQexOcz5H"
      }
    },
    {
      "cell_type": "markdown",
      "metadata": {
        "id": "c3N28ddcIpHt"
      },
      "source": [
        "## Question 2\n",
        "\n",
        "You want to go to Coit Tower. To save money, you decide to ride a \"Bay Wheels\" bike to the closest station and hail a cab from there to Coit Tower. What station should you bike to so that you are as close to Coit Tower as possible (as measured by driving distance)? Does your answer agree with the one that you obtained in Part A of this lab? If not, why does it differ?\n",
        "\n",
        "_Hints:_ \n",
        "- You should restrict your attention to bike stations that are in San Francisco, which you determined in Question 1. \n",
        "- Use the [Routes API](https://docs.microsoft.com/en-us/bingmaps/rest-services/routes/calculate-a-distance-matrix) to calculate a distance matrix between Coit Tower and the bike stations. \n",
        "- You can do this with just one call to the API. Because there are too many stations, it is impossible to specify all the locations in the URL. Instead, you should make a POST request (`requests.post`), passing in the parameters as a JSON object through the `json=` parameter of `requests.post`. Read the API documentation carefully to learn how to use the POST API."
      ]
    },
    {
      "cell_type": "code",
      "source": [
        "# create json file of orgins and destination lats and logs\n",
        "df_destinations = pd.DataFrame()\n",
        "dest_lats = df_baywheels['latitude']\n",
        "dest_longs = df_baywheels['longitude']\n",
        "url_dict = {'origin':'', \n",
        "            'destination':''}"
      ],
      "metadata": {
        "id": "NW7-M2rYEOwN"
      },
      "execution_count": null,
      "outputs": []
    },
    {
      "cell_type": "code",
      "source": [
        "lat_long_lst = []\n",
        "\n",
        "for i in range(df_baywheels.shape[0]):\n",
        "  dicts = {'latitude':df_baywheels['latitude'].iloc[i], 'longitude':df_baywheels['longitude'].iloc[i]}\n",
        "  lat_long_lst.append(dicts)"
      ],
      "metadata": {
        "id": "nP_0K6D6H-Pr"
      },
      "execution_count": null,
      "outputs": []
    },
    {
      "cell_type": "code",
      "source": [
        "coit_dict = {'latitude':37.8024, 'longitude':-122.4058}\n",
        "\n",
        "coit_lst = []\n",
        "coit_lst.append(coit_dict)"
      ],
      "metadata": {
        "id": "dBEjeT9FI0CM"
      },
      "execution_count": null,
      "outputs": []
    },
    {
      "cell_type": "code",
      "source": [
        "url_dict = {}\n",
        "url_dict['origins'] = coit_lst\n",
        "url_dict['destinations'] = lat_long_lst\n",
        "url_dict['travelMode'] = 'driving'"
      ],
      "metadata": {
        "id": "dtQ2iNnUG6PU"
      },
      "execution_count": null,
      "outputs": []
    },
    {
      "cell_type": "code",
      "source": [
        "url_dict['origins']"
      ],
      "metadata": {
        "colab": {
          "base_uri": "https://localhost:8080/"
        },
        "id": "WgYIKb8qcXfs",
        "outputId": "57fc5ccf-1eca-4f8c-ca59-8daba04196ba"
      },
      "execution_count": null,
      "outputs": [
        {
          "output_type": "execute_result",
          "data": {
            "text/plain": [
              "[{'latitude': 37.8024, 'longitude': -122.4058}]"
            ]
          },
          "metadata": {},
          "execution_count": 66
        }
      ]
    },
    {
      "cell_type": "code",
      "source": [
        "url_dict['origins']"
      ],
      "metadata": {
        "colab": {
          "base_uri": "https://localhost:8080/"
        },
        "id": "tYlIFVHmcjtr",
        "outputId": "befb2256-8a7a-40a2-8565-2b99a3c944f8"
      },
      "execution_count": null,
      "outputs": [
        {
          "output_type": "execute_result",
          "data": {
            "text/plain": [
              "[{'latitude': 37.8024, 'longitude': -122.4058}]"
            ]
          },
          "metadata": {},
          "execution_count": 72
        }
      ]
    },
    {
      "cell_type": "code",
      "source": [
        "url = 'https://dev.virtualearth.net/REST/v1/Routes/DistanceMatrixAsync?key=Apo9BGIaIU8pfzLvnFsgCghaNHe0bgs6h20pcmTPqRveovg6XbbyPFuiBsTvYwDY'\n",
        "\n",
        "loc_data = requests.post(url, json=url_dict)\n",
        "\n",
        "print(loc_data.json())"
      ],
      "metadata": {
        "colab": {
          "base_uri": "https://localhost:8080/"
        },
        "id": "IVPMUfJsJrZU",
        "outputId": "ee180c13-01bf-4e92-c1d9-f51593843793"
      },
      "execution_count": null,
      "outputs": [
        {
          "output_type": "stream",
          "name": "stdout",
          "text": [
            "{'authenticationResultCode': 'ValidCredentials', 'brandLogoUri': 'http://dev.virtualearth.net/Branding/logo_powered_by.png', 'copyright': 'Copyright © 2023 Microsoft and its suppliers. All rights reserved. This API cannot be accessed and the content and any results may not be used, reproduced or transmitted in any manner without express written permission from Microsoft Corporation.', 'resourceSets': [{'estimatedTotal': 1, 'resources': [{'__type': 'RouteProxyAsyncResult:http://schemas.microsoft.com/search/local/ws/rest/v1', 'callbackInSeconds': 30, 'callbackUrl': 'https://dev.virtualearth.net/REST/v1/Routes/DistanceMatrixAsyncCallback?key=Apo9BGIaIU8pfzLvnFsgCghaNHe0bgs6h20pcmTPqRveovg6XbbyPFuiBsTvYwDY&requestId=ac14504b-0748-4d40-8f28-4cd3be4cf9e5&travelMode=Driving', 'isAccepted': True, 'isCompleted': False, 'requestId': 'ac14504b-0748-4d40-8f28-4cd3be4cf9e5'}]}], 'statusCode': 200, 'statusDescription': 'OK', 'traceId': 'da41483b7130494d8106de0d1762e29b|BN0000644D|0.0.0.0|BNZ0017591'}\n"
          ]
        }
      ]
    },
    {
      "cell_type": "code",
      "source": [
        "callback_url = 'https://dev.virtualearth.net/REST/v1/Routes/DistanceMatrixAsyncCallback?key=Apo9BGIaIU8pfzLvnFsgCghaNHe0bgs6h20pcmTPqRveovg6XbbyPFuiBsTvYwDY&requestId=ac14504b-0748-4d40-8f28-4cd3be4cf9e5&travelMode=Driving'\n",
        "\n",
        "response = requests.get(callback_url)"
      ],
      "metadata": {
        "id": "3xvppwnDZ-y5"
      },
      "execution_count": null,
      "outputs": []
    },
    {
      "cell_type": "code",
      "source": [
        "result = json.loads(response.content.decode('utf-8-sig'))\n",
        "\n",
        "result"
      ],
      "metadata": {
        "colab": {
          "base_uri": "https://localhost:8080/"
        },
        "id": "DDyRbub5aL2I",
        "outputId": "3c36b5db-c371-464f-e682-8ffe6a6df5a0"
      },
      "execution_count": null,
      "outputs": [
        {
          "output_type": "execute_result",
          "data": {
            "text/plain": [
              "{'authenticationResultCode': 'ValidCredentials',\n",
              " 'brandLogoUri': 'http://dev.virtualearth.net/Branding/logo_powered_by.png',\n",
              " 'copyright': 'Copyright © 2023 Microsoft and its suppliers. All rights reserved. This API cannot be accessed and the content and any results may not be used, reproduced or transmitted in any manner without express written permission from Microsoft Corporation.',\n",
              " 'resourceSets': [{'estimatedTotal': 1,\n",
              "   'resources': [{'__type': 'RouteProxyAsyncResult:http://schemas.microsoft.com/search/local/ws/rest/v1',\n",
              "     'callbackInSeconds': -1,\n",
              "     'callbackUrl': 'https://dev.virtualearth.net/REST/v1/Routes/DistanceMatrixAsyncCallback?key=Apo9BGIaIU8pfzLvnFsgCghaNHe0bgs6h20pcmTPqRveovg6XbbyPFuiBsTvYwDY&requestId=ac14504b-0748-4d40-8f28-4cd3be4cf9e5&travelMode=Driving',\n",
              "     'isAccepted': True,\n",
              "     'isCompleted': True,\n",
              "     'requestId': 'ac14504b-0748-4d40-8f28-4cd3be4cf9e5',\n",
              "     'resultUrl': 'https://routematrixpremium.blob.core.windows.net/finalresults/ac14504b-0748-4d40-8f28-4cd3be4cf9e5'}]}],\n",
              " 'statusCode': 200,\n",
              " 'statusDescription': 'OK',\n",
              " 'traceId': 'c8c9fdca64394e049988646a06dc05d6|BN00006928|0.0.0.0'}"
            ]
          },
          "metadata": {},
          "execution_count": 74
        }
      ]
    },
    {
      "cell_type": "code",
      "source": [
        "resultUrl = 'https://routematrixpremium.blob.core.windows.net/finalresults/ac14504b-0748-4d40-8f28-4cd3be4cf9e5'\n",
        "\n",
        "response = requests.get(resultUrl)"
      ],
      "metadata": {
        "id": "-I0PA1OAa5sT"
      },
      "execution_count": null,
      "outputs": []
    },
    {
      "cell_type": "code",
      "source": [
        "route_data = json.loads(response.content)"
      ],
      "metadata": {
        "id": "AwLQnikKd7WX"
      },
      "execution_count": 79,
      "outputs": []
    },
    {
      "cell_type": "code",
      "source": [
        "df_results = json_normalize(route_data['results'])\n",
        "\n",
        "df_results['travelDuration'].idxmin()"
      ],
      "metadata": {
        "colab": {
          "base_uri": "https://localhost:8080/"
        },
        "id": "B8R4KQV7gLKn",
        "outputId": "488805b7-ff48-4c4d-ac5d-5085f2da23af"
      },
      "execution_count": 91,
      "outputs": [
        {
          "output_type": "stream",
          "name": "stderr",
          "text": [
            "<ipython-input-91-a5fd8c602857>:1: FutureWarning: pandas.io.json.json_normalize is deprecated, use pandas.json_normalize instead\n",
            "  df_results = json_normalize(route_data['results'])\n"
          ]
        },
        {
          "output_type": "execute_result",
          "data": {
            "text/plain": [
              "391"
            ]
          },
          "metadata": {},
          "execution_count": 91
        }
      ]
    },
    {
      "cell_type": "code",
      "source": [
        "df_baywheels.iloc[391]"
      ],
      "metadata": {
        "colab": {
          "base_uri": "https://localhost:8080/"
        },
        "id": "A0pNZMHrgmTp",
        "outputId": "31f353c8-3857-4c19-9caf-4e1e58dcbeb4"
      },
      "execution_count": 92,
      "outputs": [
        {
          "output_type": "execute_result",
          "data": {
            "text/plain": [
              "Unnamed: 0                                                7948\n",
              "empty_slots                                               10.0\n",
              "free_bikes                                                 8.0\n",
              "id_x                          65134e1e5e8d3b200c458d533e7d544c\n",
              "latitude                                             37.802767\n",
              "longitude                                          -122.413276\n",
              "name                                Lombard St at Columbus Ave\n",
              "timestamp                          2023-02-24T01:38:55.383000Z\n",
              "extra.address                                              NaN\n",
              "extra.last_updated                                1677202710.0\n",
              "extra.renting                                              1.0\n",
              "extra.returning                                            1.0\n",
              "extra.uid                 7b2083d3-b1bb-4ef3-ba53-bebc831bd0a4\n",
              "stat.id                                             bay-wheels\n",
              "extra.altitude                                             NaN\n",
              "extra.ebikes                                               4.0\n",
              "extra.has_ebikes                                          True\n",
              "extra.normal_bikes                                         NaN\n",
              "extra.payment                            ['key', 'creditcard']\n",
              "extra.payment-terminal                                    True\n",
              "extra.slots                                               19.0\n",
              "extra.post_code                                            NaN\n",
              "extra.bike_uids                                            NaN\n",
              "extra.number                                               NaN\n",
              "location.city                       San Francisco Bay Area, CA\n",
              "id_y                                                bay-wheels\n",
              "Name: 7948, dtype: object"
            ]
          },
          "metadata": {},
          "execution_count": 92
        }
      ]
    },
    {
      "cell_type": "markdown",
      "source": [
        "The station that is identified as the closest is Lombard St at Columbus Ave. This station is different from the one found in part a. It differs because of the distance metric being used. In part A, we used Manhattan distance, in this situation, we do not."
      ],
      "metadata": {
        "id": "dNQ4EhhMg0GS"
      }
    },
    {
      "cell_type": "markdown",
      "metadata": {
        "id": "akBCRrv8VeRT"
      },
      "source": [
        "## Submission Instructions\n",
        "\n",
        "- Copy this notebook to your own Drive, if you have not already.\n",
        "- Restart this notebook and run the cells from beginning to end. \n",
        "  - Go to Runtime > Restart and Run All.\n",
        "- Rename this notebook by clicking on \"DATA 301 Lab 6B - YOUR NAMES HERE\" at the very top of this page. Replace \"YOUR NAMES HERE\" with the first and last names of you (and your partners, for Phase 2).\n",
        "- Get the link to your notebook:\n",
        "  - Click on \"Share\" at the top-right. \n",
        "  - Change the settings to \"Anyone with the link can view\". \n",
        "  - Copy the sharing link into Canvas."
      ]
    }
  ]
}